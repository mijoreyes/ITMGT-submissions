{
 "cells": [
  {
   "cell_type": "code",
   "execution_count": 2,
   "id": "09e12ba2-8fbc-4aeb-b1ee-f42ec050f0ee",
   "metadata": {},
   "outputs": [
    {
     "name": "stdout",
     "output_type": "stream",
     "text": [
      "Requirement already satisfied: matplotlib in /Users/mijodavidreyes/anaconda3/lib/python3.10/site-packages (3.7.0)\n",
      "Requirement already satisfied: cycler>=0.10 in /Users/mijodavidreyes/anaconda3/lib/python3.10/site-packages (from matplotlib) (0.11.0)\n",
      "Requirement already satisfied: packaging>=20.0 in /Users/mijodavidreyes/anaconda3/lib/python3.10/site-packages (from matplotlib) (22.0)\n",
      "Requirement already satisfied: python-dateutil>=2.7 in /Users/mijodavidreyes/anaconda3/lib/python3.10/site-packages (from matplotlib) (2.8.2)\n",
      "Requirement already satisfied: pyparsing>=2.3.1 in /Users/mijodavidreyes/anaconda3/lib/python3.10/site-packages (from matplotlib) (3.0.9)\n",
      "Requirement already satisfied: pillow>=6.2.0 in /Users/mijodavidreyes/anaconda3/lib/python3.10/site-packages (from matplotlib) (9.4.0)\n",
      "Requirement already satisfied: contourpy>=1.0.1 in /Users/mijodavidreyes/anaconda3/lib/python3.10/site-packages (from matplotlib) (1.0.5)\n",
      "Requirement already satisfied: numpy>=1.20 in /Users/mijodavidreyes/anaconda3/lib/python3.10/site-packages (from matplotlib) (1.23.5)\n",
      "Requirement already satisfied: fonttools>=4.22.0 in /Users/mijodavidreyes/anaconda3/lib/python3.10/site-packages (from matplotlib) (4.25.0)\n",
      "Requirement already satisfied: kiwisolver>=1.0.1 in /Users/mijodavidreyes/anaconda3/lib/python3.10/site-packages (from matplotlib) (1.4.4)\n",
      "Requirement already satisfied: six>=1.5 in /Users/mijodavidreyes/anaconda3/lib/python3.10/site-packages (from python-dateutil>=2.7->matplotlib) (1.16.0)\n",
      "Requirement already satisfied: requests in /Users/mijodavidreyes/anaconda3/lib/python3.10/site-packages (2.28.1)\n",
      "Requirement already satisfied: charset-normalizer<3,>=2 in /Users/mijodavidreyes/anaconda3/lib/python3.10/site-packages (from requests) (2.0.4)\n",
      "Requirement already satisfied: urllib3<1.27,>=1.21.1 in /Users/mijodavidreyes/anaconda3/lib/python3.10/site-packages (from requests) (1.26.14)\n",
      "Requirement already satisfied: certifi>=2017.4.17 in /Users/mijodavidreyes/anaconda3/lib/python3.10/site-packages (from requests) (2023.5.7)\n",
      "Requirement already satisfied: idna<4,>=2.5 in /Users/mijodavidreyes/anaconda3/lib/python3.10/site-packages (from requests) (3.4)\n"
     ]
    }
   ],
   "source": [
    "!pip install matplotlib\n",
    "!pip install requests"
   ]
  },
  {
   "cell_type": "code",
   "execution_count": 4,
   "id": "f6c4c3bf-7d14-4131-bec2-273e16d09054",
   "metadata": {},
   "outputs": [
    {
     "data": {
      "text/plain": [
       "[{'timestamp': 1690021855, 'latitude': -40.116, 'longitude': 14.3458},\n",
       " {'timestamp': 1690021866, 'latitude': -39.7177, 'longitude': 15.0174},\n",
       " {'timestamp': 1690021876, 'latitude': -39.315, 'longitude': 15.6807},\n",
       " {'timestamp': 1690021886, 'latitude': -38.9275, 'longitude': 16.3049},\n",
       " {'timestamp': 1690021897, 'latitude': -38.5166, 'longitude': 16.9525},\n",
       " {'timestamp': 1690021907, 'latitude': -38.1016, 'longitude': 17.5922},\n",
       " {'timestamp': 1690021917, 'latitude': -37.7028, 'longitude': 18.1942},\n",
       " {'timestamp': 1690021928, 'latitude': -37.2803, 'longitude': 18.8188},\n",
       " {'timestamp': 1690021938, 'latitude': -36.8539, 'longitude': 19.4362},\n",
       " {'timestamp': 1690021948, 'latitude': -36.4446, 'longitude': 20.0171},\n",
       " {'timestamp': 1690021959, 'latitude': -36.0113, 'longitude': 20.6202},\n",
       " {'timestamp': 1690021970, 'latitude': -35.5745, 'longitude': 21.2161},\n",
       " {'timestamp': 1690021980, 'latitude': -35.1555, 'longitude': 21.7771},\n",
       " {'timestamp': 1690021990, 'latitude': -34.7123, 'longitude': 22.3595},\n",
       " {'timestamp': 1690022001, 'latitude': -34.2659, 'longitude': 22.9352},\n",
       " {'timestamp': 1690022011, 'latitude': -33.8379, 'longitude': 23.4774},\n",
       " {'timestamp': 1690022021, 'latitude': -33.3856, 'longitude': 24.0404},\n",
       " {'timestamp': 1690022031, 'latitude': -32.9521, 'longitude': 24.5707},\n",
       " {'timestamp': 1690022042, 'latitude': -32.4941, 'longitude': 25.1215},\n",
       " {'timestamp': 1690022052, 'latitude': -32.0333, 'longitude': 25.6663},\n",
       " {'timestamp': 1690022062, 'latitude': -31.5919, 'longitude': 26.1797},\n",
       " {'timestamp': 1690022073, 'latitude': -31.1259, 'longitude': 26.713},\n",
       " {'timestamp': 1690022083, 'latitude': -30.6574, 'longitude': 27.2408},\n",
       " {'timestamp': 1690022093, 'latitude': -30.2088, 'longitude': 27.7382},\n",
       " {'timestamp': 1690022104, 'latitude': -29.7354, 'longitude': 28.2553},\n",
       " {'timestamp': 1690022114, 'latitude': -29.2597, 'longitude': 28.7671},\n",
       " {'timestamp': 1690022124, 'latitude': -28.8045, 'longitude': 29.2497},\n",
       " {'timestamp': 1690022135, 'latitude': -28.3244, 'longitude': 29.7515},\n",
       " {'timestamp': 1690022145, 'latitude': -27.8421, 'longitude': 30.2484},\n",
       " {'timestamp': 1690022155, 'latitude': -27.3808, 'longitude': 30.7172},\n",
       " {'timestamp': 1690022166, 'latitude': -26.8945, 'longitude': 31.2049},\n",
       " {'timestamp': 1690022176, 'latitude': -26.4062, 'longitude': 31.688},\n",
       " {'timestamp': 1690022186, 'latitude': -25.9393, 'longitude': 32.1439},\n",
       " {'timestamp': 1690022197, 'latitude': -25.4472, 'longitude': 32.6185},\n",
       " {'timestamp': 1690022208, 'latitude': -24.9063, 'longitude': 33.1333},\n",
       " {'timestamp': 1690022219, 'latitude': -24.4105, 'longitude': 33.5991},\n",
       " {'timestamp': 1690022229, 'latitude': -23.913, 'longitude': 34.061},\n",
       " {'timestamp': 1690022239, 'latitude': -23.4376, 'longitude': 34.4972},\n",
       " {'timestamp': 1690022250, 'latitude': -22.9368, 'longitude': 34.9517},\n",
       " {'timestamp': 1690022260, 'latitude': -22.4346, 'longitude': 35.4023},\n",
       " {'timestamp': 1690022271, 'latitude': -21.9309, 'longitude': 35.8494},\n",
       " {'timestamp': 1690022281, 'latitude': -21.4256, 'longitude': 36.2931},\n",
       " {'timestamp': 1690022291, 'latitude': -20.9431, 'longitude': 36.7125},\n",
       " {'timestamp': 1690022302, 'latitude': -20.4351, 'longitude': 37.1497},\n",
       " {'timestamp': 1690022313, 'latitude': -19.9258, 'longitude': 37.5838},\n",
       " {'timestamp': 1690022323, 'latitude': -19.4152, 'longitude': 38.0148},\n",
       " {'timestamp': 1690022333, 'latitude': -18.9278, 'longitude': 38.4225},\n",
       " {'timestamp': 1690022344, 'latitude': -18.4149, 'longitude': 38.8477},\n",
       " {'timestamp': 1690022354, 'latitude': -17.9253, 'longitude': 39.2501},\n",
       " {'timestamp': 1690022364, 'latitude': -17.4101, 'longitude': 39.67},\n",
       " {'timestamp': 1690022375, 'latitude': -16.8938, 'longitude': 40.0873},\n",
       " {'timestamp': 1690022385, 'latitude': -16.4012, 'longitude': 40.4824},\n",
       " {'timestamp': 1690022395, 'latitude': -15.8829, 'longitude': 40.8949},\n",
       " {'timestamp': 1690022406, 'latitude': -15.3637, 'longitude': 41.305},\n",
       " {'timestamp': 1690022416, 'latitude': -14.8683, 'longitude': 41.6935},\n",
       " {'timestamp': 1690022426, 'latitude': -14.3473, 'longitude': 42.0993},\n",
       " {'timestamp': 1690022437, 'latitude': -13.8255, 'longitude': 42.5031},\n",
       " {'timestamp': 1690022447, 'latitude': -13.3276, 'longitude': 42.8858},\n",
       " {'timestamp': 1690022457, 'latitude': -12.8042, 'longitude': 43.2857},\n",
       " {'timestamp': 1690022468, 'latitude': -12.28, 'longitude': 43.6838},\n",
       " {'timestamp': 1690022478, 'latitude': -11.7801, 'longitude': 44.0613},\n",
       " {'timestamp': 1690022488, 'latitude': -11.2546, 'longitude': 44.456},\n",
       " {'timestamp': 1690022499, 'latitude': -10.7284, 'longitude': 44.8491},\n",
       " {'timestamp': 1690022509, 'latitude': -10.2016, 'longitude': 45.2407},\n",
       " {'timestamp': 1690022520, 'latitude': -9.6741, 'longitude': 45.631},\n",
       " {'timestamp': 1690022530, 'latitude': -9.1713, 'longitude': 46.0014},\n",
       " {'timestamp': 1690022540, 'latitude': -8.6428, 'longitude': 46.389},\n",
       " {'timestamp': 1690022551, 'latitude': -8.1138, 'longitude': 46.7755},\n",
       " {'timestamp': 1690022561, 'latitude': -7.6096, 'longitude': 47.1425},\n",
       " {'timestamp': 1690022571, 'latitude': -7.0798, 'longitude': 47.5268},\n",
       " {'timestamp': 1690022581, 'latitude': -6.5748, 'longitude': 47.8919},\n",
       " {'timestamp': 1690022592, 'latitude': -6.0442, 'longitude': 48.2743},\n",
       " {'timestamp': 1690022602, 'latitude': -5.5132, 'longitude': 48.656},\n",
       " {'timestamp': 1690022612, 'latitude': -5.0073, 'longitude': 49.0188},\n",
       " {'timestamp': 1690022623, 'latitude': -4.4758, 'longitude': 49.399},\n",
       " {'timestamp': 1690022633, 'latitude': -3.944, 'longitude': 49.7786},\n",
       " {'timestamp': 1690022643, 'latitude': -3.4373, 'longitude': 50.1397},\n",
       " {'timestamp': 1690022654, 'latitude': -2.905, 'longitude': 50.5185},\n",
       " {'timestamp': 1690022665, 'latitude': -2.3726, 'longitude': 50.8967},\n",
       " {'timestamp': 1690022675, 'latitude': -1.8655, 'longitude': 51.2567},\n",
       " {'timestamp': 1690022685, 'latitude': -1.3329, 'longitude': 51.6344},\n",
       " {'timestamp': 1690022696, 'latitude': -0.8001, 'longitude': 52.012},\n",
       " {'timestamp': 1690022706, 'latitude': -0.2927, 'longitude': 52.3715},\n",
       " {'timestamp': 1690022716, 'latitude': 0.2402, 'longitude': 52.749},\n",
       " {'timestamp': 1690022727, 'latitude': 0.773, 'longitude': 53.1265},\n",
       " {'timestamp': 1690022737, 'latitude': 1.2804, 'longitude': 53.4861},\n",
       " {'timestamp': 1690022747, 'latitude': 1.8131, 'longitude': 53.8639},\n",
       " {'timestamp': 1690022758, 'latitude': 2.3457, 'longitude': 54.2419},\n",
       " {'timestamp': 1690022768, 'latitude': 2.8528, 'longitude': 54.6022},\n",
       " {'timestamp': 1690022778, 'latitude': 3.3852, 'longitude': 54.9809},\n",
       " {'timestamp': 1690022789, 'latitude': 3.9174, 'longitude': 55.3602},\n",
       " {'timestamp': 1690022799, 'latitude': 4.4494, 'longitude': 55.7399},\n",
       " {'timestamp': 1690022812, 'latitude': 5.1076, 'longitude': 56.2109},\n",
       " {'timestamp': 1690022823, 'latitude': 5.639, 'longitude': 56.5921},\n",
       " {'timestamp': 1690022833, 'latitude': 6.1702, 'longitude': 56.9742},\n",
       " {'timestamp': 1690022843, 'latitude': 6.6757, 'longitude': 57.3389},\n",
       " {'timestamp': 1690022854, 'latitude': 7.2062, 'longitude': 57.7227},\n",
       " {'timestamp': 1690022864, 'latitude': 7.7362, 'longitude': 58.1075},\n",
       " {'timestamp': 1690022874, 'latitude': 8.2406, 'longitude': 58.475},\n",
       " {'timestamp': 1690022885, 'latitude': 8.7698, 'longitude': 58.862}]"
      ]
     },
     "execution_count": 4,
     "metadata": {},
     "output_type": "execute_result"
    }
   ],
   "source": [
    "import time\n",
    "import requests\n",
    "import json\n",
    "import urllib.request\n",
    "\n",
    "url = \"http://api.open-notify.org/iss-now.json\"\n",
    "data_count = 100 \n",
    "interval = 10 \n",
    "\n",
    "data = []\n",
    "for _ in range(data_count):\n",
    "    response = requests.get(url)\n",
    "    if response.status_code == 200:\n",
    "        obj = json.loads(response.content.decode())\n",
    "        data_point = {\n",
    "            \"timestamp\": obj['timestamp'],\n",
    "            \"latitude\": float(obj['iss_position']['latitude']),\n",
    "            \"longitude\": float(obj['iss_position']['longitude'])\n",
    "        }\n",
    "        data.append(data_point)\n",
    "    time.sleep(interval)\n",
    "data"
   ]
  },
  {
   "cell_type": "code",
   "execution_count": 7,
   "id": "74ce7153-cb9b-4ef5-bbcb-972eb0008441",
   "metadata": {},
   "outputs": [
    {
     "data": {
      "image/png": "[encoded data removed]",
      "text/plain": [
       "<Figure size 640x480 with 1 Axes>"
      ]
     },
     "metadata": {},
     "output_type": "display_data"
    }
   ],
   "source": [
    "import matplotlib.pyplot as plt\n",
    "import matplotlib.pyplot as plt\n",
    "\n",
    "timestamps = [data_point['timestamp'] for data_point in data]\n",
    "latitudes = [data_point['latitude'] for data_point in data]\n",
    "longitudes = [data_point['longitude'] for data_point in data]\n",
    "\n",
    "plt.plot(latitudes, longitudes)\n",
    "plt.xlabel('Latitudes')\n",
    "plt.ylabel('Longitudes')\n",
    "plt.title('International Space Station Current Location')\n",
    "plt.grid(True)\n",
    "\n",
    "plt.show()"
   ]
  },
  {
   "cell_type": "code",
   "execution_count": null,
   "id": "b49d23d4-0c33-43cd-bc95-a8cda435d8ee",
   "metadata": {},
   "outputs": [],
   "source": []
  }
 ],
 "metadata": {
  "kernelspec": {
   "display_name": "Python 3 (ipykernel)",
   "language": "python",
   "name": "python3"
  },
  "language_info": {
   "codemirror_mode": {
    "name": "ipython",
    "version": 3
   },
   "file_extension": ".py",
   "mimetype": "text/x-python",
   "name": "python",
   "nbconvert_exporter": "python",
   "pygments_lexer": "ipython3",
   "version": "3.10.9"
  }
 },
 "nbformat": 4,
 "nbformat_minor": 5
}
